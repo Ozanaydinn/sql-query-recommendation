{
 "cells": [
  {
   "cell_type": "code",
   "execution_count": 1,
   "metadata": {},
   "outputs": [],
   "source": [
    "import pandas as pd\n",
    "import os\n",
    "import csv\n",
    "import stellargraph as sg\n",
    "from stellargraph.mapper import FullBatchNodeGenerator\n",
    "from stellargraph.layer import GCN\n",
    "import networkx as nx\n",
    "from tensorflow.keras import layers, optimizers, losses, metrics, Model\n",
    "from sklearn import preprocessing, model_selection\n",
    "from IPython.display import display, HTML\n",
    "import matplotlib.pyplot as plt\n",
    "import numpy as np\n",
    "import sqlite3\n",
    "import pandas as pd\n",
    "from gensim.models import Word2Vec"
   ]
  },
  {
   "cell_type": "code",
   "execution_count": 2,
   "metadata": {},
   "outputs": [],
   "source": [
    "graph = nx.read_gml('no_relations_graph.gml')\n",
    "node_subjects = nx.get_node_attributes(graph,'table_name')"
   ]
  },
  {
   "cell_type": "code",
   "execution_count": 3,
   "metadata": {},
   "outputs": [
    {
     "name": "stdout",
     "output_type": "stream",
     "text": [
      "0       classroom\n",
      "1       classroom\n",
      "2       classroom\n",
      "3       classroom\n",
      "4       classroom\n",
      "          ...    \n",
      "2415    time_slot\n",
      "2416    time_slot\n",
      "2417    time_slot\n",
      "2418    time_slot\n",
      "2419    time_slot\n",
      "Name: table_name, Length: 2420, dtype: object\n"
     ]
    }
   ],
   "source": [
    "index_list = [*range(0, 2420, 1)] \n",
    "node_subjects= pd.Series(list(node_subjects.values()), index = index_list, name= \"table_name\")\n",
    "print(node_subjects)"
   ]
  },
  {
   "cell_type": "code",
   "execution_count": 4,
   "metadata": {},
   "outputs": [],
   "source": [
    "train_subjects, test_subjects = model_selection.train_test_split(\n",
    "    node_subjects, train_size=0.8, test_size=None, stratify=node_subjects\n",
    ")\n",
    "val_subjects, test_subjects = model_selection.train_test_split(\n",
    "    test_subjects, train_size=0.5, test_size=None, stratify=test_subjects\n",
    ")"
   ]
  },
  {
   "cell_type": "code",
   "execution_count": 5,
   "metadata": {},
   "outputs": [],
   "source": [
    "target_encoding = preprocessing.LabelBinarizer()\n",
    "\n",
    "train_targets = target_encoding.fit_transform(train_subjects)\n",
    "val_targets = target_encoding.transform(val_subjects)\n",
    "test_targets = target_encoding.transform(test_subjects)"
   ]
  },
  {
   "cell_type": "code",
   "execution_count": 6,
   "metadata": {},
   "outputs": [],
   "source": [
    "def convertTheTypes(df_read):\n",
    "    df = df_read.astype({\"index\": \"int64\"})\n",
    "    as_list = df_read.value.to_list()\n",
    "    #print(as_list)\n",
    "    for i in range(0,len(df_read)):\n",
    "        string_holder = as_list[i].replace(\",\",\"\")\n",
    "        #np.fromstring(string_holder[1:len(string_holder)-1], dtype=float, sep=' ')\n",
    "        df['value'][i] = np.fromstring(string_holder[1:len(string_holder)-1], dtype=float, sep=' ')\n",
    "    return df"
   ]
  },
  {
   "cell_type": "code",
   "execution_count": 7,
   "metadata": {},
   "outputs": [
    {
     "name": "stdout",
     "output_type": "stream",
     "text": [
      "Select the type of feature vector representation of every node:\n",
      "1) One Hot Encoding \n",
      "2) Doc2Vec\n",
      "3) Word2Vec\n",
      "4) TF-IDF\n",
      "5) Bow\n",
      "\n",
      "1\n"
     ]
    }
   ],
   "source": [
    "holder = 0\n",
    "list_valid= [1,2,3,4,5]\n",
    "while holder not in list_valid:\n",
    "    print(\"Select the type of feature vector representation of every node:\\n1) One Hot Encoding \\n2) Doc2Vec\\n3) Word2Vec\\n4) TF-IDF\\n5) Bow\\n\")\n",
    "    holder= int(input())\n",
    "    if holder == 1:\n",
    "        matrix=[]\n",
    "        for i in range(0,len(node_subjects)):\n",
    "            vecForEach = np.zeros(len(node_subjects)) \n",
    "            vecForEach[i] = 1\n",
    "            matrix.append(vecForEach)\n",
    "\n",
    "        index = [*range(0,len(node_subjects),1)]\n",
    "        list_of_tuples = list(zip(index, matrix))\n",
    "        df = pd.DataFrame(list_of_tuples, \n",
    "                  columns = ['index', 'value'])   \n",
    "    if holder == 2:\n",
    "        df_read = pd.read_csv('output_doc2vec.csv')\n",
    "        df = convertTheTypes(df_read)\n",
    "    if holder == 3:\n",
    "        df_read = pd.read_csv('output_word2vec.csv')\n",
    "        df = convertTheTypes(df_read)        \n",
    "    if holder == 4:\n",
    "        df_read = pd.read_csv('output_tfidf.csv')\n",
    "        df = convertTheTypes(df_read)        \n",
    "    if holder == 5:\n",
    "        df_read = pd.read_csv('output_bow.csv')\n",
    "        df = convertTheTypes(df_read)"
   ]
  },
  {
   "cell_type": "code",
   "execution_count": 8,
   "metadata": {},
   "outputs": [],
   "source": [
    "#add w2v_df value to corresponding node in the graph\n",
    "i=0\n",
    "for u,outer_d in graph.nodes(data=True):\n",
    "    #print(type(df.iloc[i]['value']))\n",
    "    outer_d['val'] = df.iloc[i]['value']\n",
    "    i+=1"
   ]
  },
  {
   "cell_type": "code",
   "execution_count": 9,
   "metadata": {},
   "outputs": [
    {
     "data": {
      "text/plain": [
       "'StellarGraph: Undirected multigraph\\n Nodes: 2420, Edges: 34548\\n\\n Node types:\\n  default: [2420]\\n    Features: float32 vector, length 2420\\n    Edge types: default-default->default\\n\\n Edge types:\\n    default-default->default: [34548]\\n        Weights: all 1 (default)\\n        Features: none'"
      ]
     },
     "execution_count": 9,
     "metadata": {},
     "output_type": "execute_result"
    }
   ],
   "source": [
    "G = sg.StellarGraph.from_networkx(graph,node_features=\"val\")\n",
    "G.info()"
   ]
  },
  {
   "cell_type": "code",
   "execution_count": 10,
   "metadata": {},
   "outputs": [
    {
     "name": "stdout",
     "output_type": "stream",
     "text": [
      "Using GCN (local pooling) filters...\n"
     ]
    }
   ],
   "source": [
    "generator = FullBatchNodeGenerator(G, method=\"gcn\")"
   ]
  },
  {
   "cell_type": "code",
   "execution_count": 11,
   "metadata": {},
   "outputs": [],
   "source": [
    "train_gen = generator.flow(train_subjects.index, targets=train_targets, use_ilocs=True)   "
   ]
  },
  {
   "cell_type": "code",
   "execution_count": 12,
   "metadata": {},
   "outputs": [],
   "source": [
    "gcn = GCN(\n",
    "    layer_sizes=[16, 16], activations=[\"relu\", \"relu\"], generator=generator, dropout=0.5\n",
    ")"
   ]
  },
  {
   "cell_type": "code",
   "execution_count": 13,
   "metadata": {},
   "outputs": [
    {
     "data": {
      "text/plain": [
       "<tf.Tensor 'gather_indices/Identity:0' shape=(1, None, 16) dtype=float32>"
      ]
     },
     "execution_count": 13,
     "metadata": {},
     "output_type": "execute_result"
    }
   ],
   "source": [
    "x_inp, x_out = gcn.in_out_tensors()\n",
    "\n",
    "x_out"
   ]
  },
  {
   "cell_type": "code",
   "execution_count": 14,
   "metadata": {},
   "outputs": [],
   "source": [
    "predictions = layers.Dense(units=train_targets.shape[1], activation=\"softmax\")(x_out)"
   ]
  },
  {
   "cell_type": "code",
   "execution_count": 15,
   "metadata": {},
   "outputs": [],
   "source": [
    "model = Model(inputs=x_inp, outputs=predictions)\n",
    "model.compile(\n",
    "    optimizer=optimizers.Adam(lr=0.01),\n",
    "    loss=losses.categorical_crossentropy,\n",
    "    metrics=[\"acc\"],\n",
    ")"
   ]
  },
  {
   "cell_type": "code",
   "execution_count": 16,
   "metadata": {},
   "outputs": [],
   "source": [
    "val_gen = generator.flow(val_subjects.index, val_targets, use_ilocs=True)"
   ]
  },
  {
   "cell_type": "code",
   "execution_count": 17,
   "metadata": {},
   "outputs": [],
   "source": [
    "from tensorflow.keras.callbacks import EarlyStopping\n",
    "\n",
    "es_callback = EarlyStopping(monitor=\"val_acc\", patience=50, restore_best_weights=True)"
   ]
  },
  {
   "cell_type": "code",
   "execution_count": 18,
   "metadata": {},
   "outputs": [
    {
     "name": "stdout",
     "output_type": "stream",
     "text": [
      "WARNING:tensorflow:sample_weight modes were coerced from\n",
      "  ...\n",
      "    to  \n",
      "  ['...']\n",
      "WARNING:tensorflow:sample_weight modes were coerced from\n",
      "  ...\n",
      "    to  \n",
      "  ['...']\n",
      "Train for 1 steps, validate for 1 steps\n",
      "Epoch 1/200\n",
      "1/1 - 2s - loss: 1.9450 - acc: 0.4582 - val_loss: 1.9103 - val_acc: 0.8264\n",
      "Epoch 2/200\n",
      "1/1 - 0s - loss: 1.9102 - acc: 0.8295 - val_loss: 1.8703 - val_acc: 0.8264\n",
      "Epoch 3/200\n",
      "1/1 - 0s - loss: 1.8700 - acc: 0.8264 - val_loss: 1.8259 - val_acc: 0.8264\n",
      "Epoch 4/200\n",
      "1/1 - 0s - loss: 1.8281 - acc: 0.8264 - val_loss: 1.7770 - val_acc: 0.8264\n",
      "Epoch 5/200\n",
      "1/1 - 0s - loss: 1.7784 - acc: 0.8264 - val_loss: 1.7234 - val_acc: 0.8264\n",
      "Epoch 6/200\n",
      "1/1 - 0s - loss: 1.7234 - acc: 0.8264 - val_loss: 1.6650 - val_acc: 0.8264\n",
      "Epoch 7/200\n",
      "1/1 - 0s - loss: 1.6589 - acc: 0.8264 - val_loss: 1.6021 - val_acc: 0.8264\n",
      "Epoch 8/200\n",
      "1/1 - 0s - loss: 1.6008 - acc: 0.8264 - val_loss: 1.5349 - val_acc: 0.8264\n",
      "Epoch 9/200\n",
      "1/1 - 0s - loss: 1.5278 - acc: 0.8264 - val_loss: 1.4642 - val_acc: 0.8264\n",
      "Epoch 10/200\n",
      "1/1 - 0s - loss: 1.4536 - acc: 0.8264 - val_loss: 1.3910 - val_acc: 0.8264\n",
      "Epoch 11/200\n",
      "1/1 - 0s - loss: 1.3924 - acc: 0.8264 - val_loss: 1.3164 - val_acc: 0.8264\n",
      "Epoch 12/200\n",
      "1/1 - 0s - loss: 1.3154 - acc: 0.8264 - val_loss: 1.2408 - val_acc: 0.8264\n",
      "Epoch 13/200\n",
      "1/1 - 0s - loss: 1.2301 - acc: 0.8264 - val_loss: 1.1654 - val_acc: 0.8264\n",
      "Epoch 14/200\n",
      "1/1 - 0s - loss: 1.1660 - acc: 0.8264 - val_loss: 1.0909 - val_acc: 0.8264\n",
      "Epoch 15/200\n",
      "1/1 - 0s - loss: 1.1008 - acc: 0.8264 - val_loss: 1.0183 - val_acc: 0.8264\n",
      "Epoch 16/200\n",
      "1/1 - 0s - loss: 1.0090 - acc: 0.8264 - val_loss: 0.9483 - val_acc: 0.8264\n",
      "Epoch 17/200\n",
      "1/1 - 0s - loss: 0.9565 - acc: 0.8264 - val_loss: 0.8814 - val_acc: 0.8264\n",
      "Epoch 18/200\n",
      "1/1 - 0s - loss: 0.8947 - acc: 0.8264 - val_loss: 0.8176 - val_acc: 0.8264\n",
      "Epoch 19/200\n",
      "1/1 - 0s - loss: 0.8190 - acc: 0.8264 - val_loss: 0.7573 - val_acc: 0.8264\n",
      "Epoch 20/200\n",
      "1/1 - 0s - loss: 0.7637 - acc: 0.8264 - val_loss: 0.7011 - val_acc: 0.8264\n",
      "Epoch 21/200\n",
      "1/1 - 0s - loss: 0.7224 - acc: 0.8264 - val_loss: 0.6487 - val_acc: 0.8264\n",
      "Epoch 22/200\n",
      "1/1 - 0s - loss: 0.6474 - acc: 0.8264 - val_loss: 0.6008 - val_acc: 0.8264\n",
      "Epoch 23/200\n",
      "1/1 - 0s - loss: 0.5957 - acc: 0.8264 - val_loss: 0.5561 - val_acc: 0.8264\n",
      "Epoch 24/200\n",
      "1/1 - 0s - loss: 0.5512 - acc: 0.8270 - val_loss: 0.5185 - val_acc: 0.8264\n",
      "Epoch 25/200\n",
      "1/1 - 0s - loss: 0.5000 - acc: 0.8264 - val_loss: 0.4874 - val_acc: 0.8264\n",
      "Epoch 26/200\n",
      "1/1 - 0s - loss: 0.5041 - acc: 0.8264 - val_loss: 0.4598 - val_acc: 0.8264\n",
      "Epoch 27/200\n",
      "1/1 - 0s - loss: 0.4585 - acc: 0.8264 - val_loss: 0.4370 - val_acc: 0.8264\n",
      "Epoch 28/200\n",
      "1/1 - 0s - loss: 0.4312 - acc: 0.8270 - val_loss: 0.4178 - val_acc: 0.8264\n",
      "Epoch 29/200\n",
      "1/1 - 0s - loss: 0.4161 - acc: 0.8280 - val_loss: 0.4013 - val_acc: 0.8264\n",
      "Epoch 30/200\n",
      "1/1 - 0s - loss: 0.3980 - acc: 0.8290 - val_loss: 0.3867 - val_acc: 0.8264\n",
      "Epoch 31/200\n",
      "1/1 - 0s - loss: 0.3777 - acc: 0.8357 - val_loss: 0.3737 - val_acc: 0.8264\n",
      "Epoch 32/200\n",
      "1/1 - 0s - loss: 0.3749 - acc: 0.8357 - val_loss: 0.3622 - val_acc: 0.8264\n",
      "Epoch 33/200\n",
      "1/1 - 0s - loss: 0.3613 - acc: 0.8373 - val_loss: 0.3514 - val_acc: 0.8347\n",
      "Epoch 34/200\n",
      "1/1 - 0s - loss: 0.3562 - acc: 0.8492 - val_loss: 0.3415 - val_acc: 0.8388\n",
      "Epoch 35/200\n",
      "1/1 - 0s - loss: 0.3384 - acc: 0.8507 - val_loss: 0.3321 - val_acc: 0.8471\n",
      "Epoch 36/200\n",
      "1/1 - 0s - loss: 0.3422 - acc: 0.8502 - val_loss: 0.3229 - val_acc: 0.8554\n",
      "Epoch 37/200\n",
      "1/1 - 0s - loss: 0.3242 - acc: 0.8574 - val_loss: 0.3141 - val_acc: 0.8595\n",
      "Epoch 38/200\n",
      "1/1 - 0s - loss: 0.3138 - acc: 0.8750 - val_loss: 0.3054 - val_acc: 0.8595\n",
      "Epoch 39/200\n",
      "1/1 - 0s - loss: 0.3114 - acc: 0.8673 - val_loss: 0.2967 - val_acc: 0.8719\n",
      "Epoch 40/200\n",
      "1/1 - 0s - loss: 0.2986 - acc: 0.8735 - val_loss: 0.2880 - val_acc: 0.8843\n",
      "Epoch 41/200\n",
      "1/1 - 0s - loss: 0.2950 - acc: 0.8729 - val_loss: 0.2793 - val_acc: 0.8884\n",
      "Epoch 42/200\n",
      "1/1 - 0s - loss: 0.2876 - acc: 0.8817 - val_loss: 0.2708 - val_acc: 0.9298\n",
      "Epoch 43/200\n",
      "1/1 - 0s - loss: 0.2741 - acc: 0.9174 - val_loss: 0.2625 - val_acc: 0.9298\n",
      "Epoch 44/200\n",
      "1/1 - 0s - loss: 0.2751 - acc: 0.9199 - val_loss: 0.2547 - val_acc: 0.9298\n",
      "Epoch 45/200\n",
      "1/1 - 0s - loss: 0.2582 - acc: 0.9287 - val_loss: 0.2472 - val_acc: 0.9298\n",
      "Epoch 46/200\n",
      "1/1 - 0s - loss: 0.2489 - acc: 0.9349 - val_loss: 0.2396 - val_acc: 0.9298\n",
      "Epoch 47/200\n",
      "1/1 - 0s - loss: 0.2490 - acc: 0.9334 - val_loss: 0.2322 - val_acc: 0.9339\n",
      "Epoch 48/200\n",
      "1/1 - 0s - loss: 0.2347 - acc: 0.9365 - val_loss: 0.2250 - val_acc: 0.9463\n",
      "Epoch 49/200\n",
      "1/1 - 0s - loss: 0.2197 - acc: 0.9421 - val_loss: 0.2181 - val_acc: 0.9504\n",
      "Epoch 50/200\n",
      "1/1 - 0s - loss: 0.2161 - acc: 0.9406 - val_loss: 0.2115 - val_acc: 0.9504\n",
      "Epoch 51/200\n",
      "1/1 - 0s - loss: 0.2134 - acc: 0.9416 - val_loss: 0.2052 - val_acc: 0.9504\n",
      "Epoch 52/200\n",
      "1/1 - 0s - loss: 0.2076 - acc: 0.9421 - val_loss: 0.1991 - val_acc: 0.9504\n",
      "Epoch 53/200\n",
      "1/1 - 0s - loss: 0.2053 - acc: 0.9411 - val_loss: 0.1932 - val_acc: 0.9504\n",
      "Epoch 54/200\n",
      "1/1 - 0s - loss: 0.1948 - acc: 0.9447 - val_loss: 0.1876 - val_acc: 0.9504\n",
      "Epoch 55/200\n",
      "1/1 - 0s - loss: 0.1928 - acc: 0.9437 - val_loss: 0.1823 - val_acc: 0.9504\n",
      "Epoch 56/200\n",
      "1/1 - 0s - loss: 0.1792 - acc: 0.9468 - val_loss: 0.1770 - val_acc: 0.9504\n",
      "Epoch 57/200\n",
      "1/1 - 0s - loss: 0.1695 - acc: 0.9504 - val_loss: 0.1720 - val_acc: 0.9504\n",
      "Epoch 58/200\n",
      "1/1 - 0s - loss: 0.1728 - acc: 0.9468 - val_loss: 0.1674 - val_acc: 0.9504\n",
      "Epoch 59/200\n",
      "1/1 - 0s - loss: 0.1658 - acc: 0.9437 - val_loss: 0.1630 - val_acc: 0.9504\n",
      "Epoch 60/200\n",
      "1/1 - 0s - loss: 0.1569 - acc: 0.9499 - val_loss: 0.1590 - val_acc: 0.9504\n",
      "Epoch 61/200\n",
      "1/1 - 0s - loss: 0.1571 - acc: 0.9473 - val_loss: 0.1556 - val_acc: 0.9504\n",
      "Epoch 62/200\n",
      "1/1 - 0s - loss: 0.1523 - acc: 0.9473 - val_loss: 0.1523 - val_acc: 0.9504\n",
      "Epoch 63/200\n",
      "1/1 - 0s - loss: 0.1443 - acc: 0.9499 - val_loss: 0.1491 - val_acc: 0.9504\n",
      "Epoch 64/200\n",
      "1/1 - 0s - loss: 0.1426 - acc: 0.9489 - val_loss: 0.1461 - val_acc: 0.9504\n",
      "Epoch 65/200\n",
      "1/1 - 0s - loss: 0.1416 - acc: 0.9494 - val_loss: 0.1433 - val_acc: 0.9504\n",
      "Epoch 66/200\n",
      "1/1 - 0s - loss: 0.1361 - acc: 0.9494 - val_loss: 0.1407 - val_acc: 0.9504\n",
      "Epoch 67/200\n",
      "1/1 - 0s - loss: 0.1356 - acc: 0.9504 - val_loss: 0.1383 - val_acc: 0.9504\n",
      "Epoch 68/200\n",
      "1/1 - 0s - loss: 0.1311 - acc: 0.9489 - val_loss: 0.1360 - val_acc: 0.9504\n",
      "Epoch 69/200\n",
      "1/1 - 0s - loss: 0.1334 - acc: 0.9494 - val_loss: 0.1341 - val_acc: 0.9504\n",
      "Epoch 70/200\n",
      "1/1 - 0s - loss: 0.1246 - acc: 0.9494 - val_loss: 0.1324 - val_acc: 0.9504\n",
      "Epoch 71/200\n",
      "1/1 - 0s - loss: 0.1226 - acc: 0.9509 - val_loss: 0.1307 - val_acc: 0.9504\n",
      "Epoch 72/200\n",
      "1/1 - 0s - loss: 0.1222 - acc: 0.9561 - val_loss: 0.1287 - val_acc: 0.9504\n",
      "Epoch 73/200\n",
      "1/1 - 0s - loss: 0.1136 - acc: 0.9545 - val_loss: 0.1270 - val_acc: 0.9504\n",
      "Epoch 74/200\n",
      "1/1 - 0s - loss: 0.1125 - acc: 0.9525 - val_loss: 0.1256 - val_acc: 0.9504\n",
      "Epoch 75/200\n",
      "1/1 - 0s - loss: 0.1082 - acc: 0.9540 - val_loss: 0.1245 - val_acc: 0.9504\n",
      "Epoch 76/200\n",
      "1/1 - 0s - loss: 0.1112 - acc: 0.9561 - val_loss: 0.1234 - val_acc: 0.9504\n",
      "Epoch 77/200\n",
      "1/1 - 0s - loss: 0.1033 - acc: 0.9597 - val_loss: 0.1224 - val_acc: 0.9545\n",
      "Epoch 78/200\n",
      "1/1 - 0s - loss: 0.1072 - acc: 0.9561 - val_loss: 0.1215 - val_acc: 0.9545\n",
      "Epoch 79/200\n",
      "1/1 - 0s - loss: 0.1068 - acc: 0.9571 - val_loss: 0.1206 - val_acc: 0.9545\n",
      "Epoch 80/200\n",
      "1/1 - 0s - loss: 0.0998 - acc: 0.9587 - val_loss: 0.1201 - val_acc: 0.9545\n",
      "Epoch 81/200\n",
      "1/1 - 0s - loss: 0.0915 - acc: 0.9644 - val_loss: 0.1192 - val_acc: 0.9545\n",
      "Epoch 82/200\n",
      "1/1 - 0s - loss: 0.1050 - acc: 0.9628 - val_loss: 0.1183 - val_acc: 0.9545\n",
      "Epoch 83/200\n",
      "1/1 - 0s - loss: 0.0989 - acc: 0.9638 - val_loss: 0.1175 - val_acc: 0.9545\n",
      "Epoch 84/200\n",
      "1/1 - 0s - loss: 0.0941 - acc: 0.9623 - val_loss: 0.1170 - val_acc: 0.9545\n",
      "Epoch 85/200\n",
      "1/1 - 0s - loss: 0.0880 - acc: 0.9582 - val_loss: 0.1164 - val_acc: 0.9587\n",
      "Epoch 86/200\n",
      "1/1 - 0s - loss: 0.0872 - acc: 0.9731 - val_loss: 0.1157 - val_acc: 0.9587\n",
      "Epoch 87/200\n",
      "1/1 - 0s - loss: 0.0994 - acc: 0.9695 - val_loss: 0.1147 - val_acc: 0.9587\n",
      "Epoch 88/200\n",
      "1/1 - 0s - loss: 0.0914 - acc: 0.9654 - val_loss: 0.1143 - val_acc: 0.9628\n",
      "Epoch 89/200\n",
      "1/1 - 0s - loss: 0.0870 - acc: 0.9716 - val_loss: 0.1138 - val_acc: 0.9669\n",
      "Epoch 90/200\n",
      "1/1 - 0s - loss: 0.0888 - acc: 0.9675 - val_loss: 0.1147 - val_acc: 0.9711\n",
      "Epoch 91/200\n",
      "1/1 - 0s - loss: 0.0810 - acc: 0.9783 - val_loss: 0.1161 - val_acc: 0.9711\n"
     ]
    },
    {
     "name": "stdout",
     "output_type": "stream",
     "text": [
      "Epoch 92/200\n",
      "1/1 - 0s - loss: 0.0834 - acc: 0.9788 - val_loss: 0.1154 - val_acc: 0.9711\n",
      "Epoch 93/200\n",
      "1/1 - 0s - loss: 0.0834 - acc: 0.9793 - val_loss: 0.1142 - val_acc: 0.9711\n",
      "Epoch 94/200\n",
      "1/1 - 0s - loss: 0.0764 - acc: 0.9819 - val_loss: 0.1137 - val_acc: 0.9752\n",
      "Epoch 95/200\n",
      "1/1 - 0s - loss: 0.0871 - acc: 0.9783 - val_loss: 0.1140 - val_acc: 0.9669\n",
      "Epoch 96/200\n",
      "1/1 - 0s - loss: 0.0806 - acc: 0.9690 - val_loss: 0.1144 - val_acc: 0.9669\n",
      "Epoch 97/200\n",
      "1/1 - 0s - loss: 0.0888 - acc: 0.9700 - val_loss: 0.1150 - val_acc: 0.9711\n",
      "Epoch 98/200\n",
      "1/1 - 0s - loss: 0.0762 - acc: 0.9773 - val_loss: 0.1155 - val_acc: 0.9711\n",
      "Epoch 99/200\n",
      "1/1 - 0s - loss: 0.0684 - acc: 0.9804 - val_loss: 0.1159 - val_acc: 0.9752\n",
      "Epoch 100/200\n",
      "1/1 - 0s - loss: 0.0712 - acc: 0.9840 - val_loss: 0.1161 - val_acc: 0.9752\n",
      "Epoch 101/200\n",
      "1/1 - 0s - loss: 0.0734 - acc: 0.9840 - val_loss: 0.1154 - val_acc: 0.9752\n",
      "Epoch 102/200\n",
      "1/1 - 0s - loss: 0.0650 - acc: 0.9830 - val_loss: 0.1152 - val_acc: 0.9752\n",
      "Epoch 103/200\n",
      "1/1 - 0s - loss: 0.0661 - acc: 0.9830 - val_loss: 0.1152 - val_acc: 0.9752\n",
      "Epoch 104/200\n",
      "1/1 - 0s - loss: 0.0680 - acc: 0.9835 - val_loss: 0.1150 - val_acc: 0.9752\n",
      "Epoch 105/200\n",
      "1/1 - 0s - loss: 0.0630 - acc: 0.9809 - val_loss: 0.1145 - val_acc: 0.9752\n",
      "Epoch 106/200\n",
      "1/1 - 0s - loss: 0.0568 - acc: 0.9866 - val_loss: 0.1141 - val_acc: 0.9752\n",
      "Epoch 107/200\n",
      "1/1 - 0s - loss: 0.0663 - acc: 0.9871 - val_loss: 0.1145 - val_acc: 0.9752\n",
      "Epoch 108/200\n",
      "1/1 - 0s - loss: 0.0623 - acc: 0.9845 - val_loss: 0.1161 - val_acc: 0.9752\n",
      "Epoch 109/200\n",
      "1/1 - 0s - loss: 0.0551 - acc: 0.9892 - val_loss: 0.1176 - val_acc: 0.9752\n",
      "Epoch 110/200\n",
      "1/1 - 0s - loss: 0.0566 - acc: 0.9902 - val_loss: 0.1178 - val_acc: 0.9752\n",
      "Epoch 111/200\n",
      "1/1 - 0s - loss: 0.0571 - acc: 0.9881 - val_loss: 0.1176 - val_acc: 0.9752\n",
      "Epoch 112/200\n",
      "1/1 - 0s - loss: 0.0583 - acc: 0.9881 - val_loss: 0.1176 - val_acc: 0.9752\n",
      "Epoch 113/200\n",
      "1/1 - 0s - loss: 0.0581 - acc: 0.9871 - val_loss: 0.1184 - val_acc: 0.9752\n",
      "Epoch 114/200\n",
      "1/1 - 0s - loss: 0.0607 - acc: 0.9830 - val_loss: 0.1193 - val_acc: 0.9711\n",
      "Epoch 115/200\n",
      "1/1 - 0s - loss: 0.0521 - acc: 0.9855 - val_loss: 0.1198 - val_acc: 0.9711\n",
      "Epoch 116/200\n",
      "1/1 - 0s - loss: 0.0623 - acc: 0.9799 - val_loss: 0.1201 - val_acc: 0.9711\n",
      "Epoch 117/200\n",
      "1/1 - 0s - loss: 0.0591 - acc: 0.9855 - val_loss: 0.1206 - val_acc: 0.9711\n",
      "Epoch 118/200\n",
      "1/1 - 0s - loss: 0.0524 - acc: 0.9902 - val_loss: 0.1214 - val_acc: 0.9711\n",
      "Epoch 119/200\n",
      "1/1 - 0s - loss: 0.0482 - acc: 0.9912 - val_loss: 0.1223 - val_acc: 0.9711\n",
      "Epoch 120/200\n",
      "1/1 - 0s - loss: 0.0525 - acc: 0.9845 - val_loss: 0.1232 - val_acc: 0.9711\n",
      "Epoch 121/200\n",
      "1/1 - 0s - loss: 0.0520 - acc: 0.9897 - val_loss: 0.1251 - val_acc: 0.9711\n",
      "Epoch 122/200\n",
      "1/1 - 0s - loss: 0.0477 - acc: 0.9886 - val_loss: 0.1263 - val_acc: 0.9711\n",
      "Epoch 123/200\n",
      "1/1 - 0s - loss: 0.0456 - acc: 0.9917 - val_loss: 0.1266 - val_acc: 0.9711\n",
      "Epoch 124/200\n",
      "1/1 - 0s - loss: 0.0497 - acc: 0.9897 - val_loss: 0.1266 - val_acc: 0.9711\n",
      "Epoch 125/200\n",
      "1/1 - 0s - loss: 0.0512 - acc: 0.9866 - val_loss: 0.1270 - val_acc: 0.9711\n",
      "Epoch 126/200\n",
      "1/1 - 0s - loss: 0.0504 - acc: 0.9845 - val_loss: 0.1282 - val_acc: 0.9711\n",
      "Epoch 127/200\n",
      "1/1 - 0s - loss: 0.0544 - acc: 0.9840 - val_loss: 0.1293 - val_acc: 0.9628\n",
      "Epoch 128/200\n",
      "1/1 - 0s - loss: 0.0553 - acc: 0.9809 - val_loss: 0.1293 - val_acc: 0.9587\n",
      "Epoch 129/200\n",
      "1/1 - 0s - loss: 0.0552 - acc: 0.9845 - val_loss: 0.1285 - val_acc: 0.9669\n",
      "Epoch 130/200\n",
      "1/1 - 0s - loss: 0.0528 - acc: 0.9845 - val_loss: 0.1273 - val_acc: 0.9711\n",
      "Epoch 131/200\n",
      "1/1 - 0s - loss: 0.0553 - acc: 0.9830 - val_loss: 0.1268 - val_acc: 0.9711\n",
      "Epoch 132/200\n",
      "1/1 - 0s - loss: 0.0452 - acc: 0.9897 - val_loss: 0.1278 - val_acc: 0.9752\n",
      "Epoch 133/200\n",
      "1/1 - 0s - loss: 0.0419 - acc: 0.9881 - val_loss: 0.1287 - val_acc: 0.9752\n",
      "Epoch 134/200\n",
      "1/1 - 0s - loss: 0.0486 - acc: 0.9861 - val_loss: 0.1300 - val_acc: 0.9711\n",
      "Epoch 135/200\n",
      "1/1 - 0s - loss: 0.0420 - acc: 0.9907 - val_loss: 0.1319 - val_acc: 0.9711\n",
      "Epoch 136/200\n",
      "1/1 - 0s - loss: 0.0393 - acc: 0.9912 - val_loss: 0.1332 - val_acc: 0.9711\n",
      "Epoch 137/200\n",
      "1/1 - 0s - loss: 0.0454 - acc: 0.9886 - val_loss: 0.1326 - val_acc: 0.9669\n",
      "Epoch 138/200\n",
      "1/1 - 0s - loss: 0.0437 - acc: 0.9907 - val_loss: 0.1313 - val_acc: 0.9669\n",
      "Epoch 139/200\n",
      "1/1 - 0s - loss: 0.0375 - acc: 0.9902 - val_loss: 0.1307 - val_acc: 0.9669\n",
      "Epoch 140/200\n",
      "1/1 - 0s - loss: 0.0307 - acc: 0.9928 - val_loss: 0.1305 - val_acc: 0.9669\n",
      "Epoch 141/200\n",
      "1/1 - 0s - loss: 0.0467 - acc: 0.9855 - val_loss: 0.1302 - val_acc: 0.9669\n",
      "Epoch 142/200\n",
      "1/1 - 0s - loss: 0.0476 - acc: 0.9855 - val_loss: 0.1297 - val_acc: 0.9669\n",
      "Epoch 143/200\n",
      "1/1 - 0s - loss: 0.0449 - acc: 0.9886 - val_loss: 0.1296 - val_acc: 0.9711\n",
      "Epoch 144/200\n",
      "1/1 - 0s - loss: 0.0457 - acc: 0.9866 - val_loss: 0.1299 - val_acc: 0.9711\n"
     ]
    }
   ],
   "source": [
    "history = model.fit(\n",
    "    train_gen,\n",
    "    epochs=200,\n",
    "    validation_data=val_gen,\n",
    "    verbose=2,\n",
    "    shuffle=False,  # this should be False, since shuffling data means shuffling the whole graph\n",
    "    callbacks=[es_callback],\n",
    ")"
   ]
  },
  {
   "cell_type": "code",
   "execution_count": 19,
   "metadata": {},
   "outputs": [
    {
     "data": {
      "image/png": "[encoded data removed]",
      "text/plain": [
       "<Figure size 504x576 with 2 Axes>"
      ]
     },
     "metadata": {
      "needs_background": "light"
     },
     "output_type": "display_data"
    }
   ],
   "source": [
    "sg.utils.plot_history(history)"
   ]
  },
  {
   "cell_type": "code",
   "execution_count": 20,
   "metadata": {},
   "outputs": [],
   "source": [
    "test_gen = generator.flow(test_subjects.index, test_targets,use_ilocs=True)"
   ]
  },
  {
   "cell_type": "code",
   "execution_count": 21,
   "metadata": {},
   "outputs": [
    {
     "name": "stdout",
     "output_type": "stream",
     "text": [
      "WARNING:tensorflow:sample_weight modes were coerced from\n",
      "  ...\n",
      "    to  \n",
      "  ['...']\n",
      "1/1 [==============================] - 0s 91ms/step - loss: 0.0895 - acc: 0.9669\n",
      "\n",
      "Test Set Metrics:\n",
      "\tloss: 0.0895\n",
      "\tacc: 0.9669\n"
     ]
    }
   ],
   "source": [
    "test_metrics = model.evaluate(test_gen)\n",
    "print(\"\\nTest Set Metrics:\")\n",
    "for name, val in zip(model.metrics_names, test_metrics):\n",
    "    print(\"\\t{}: {:0.4f}\".format(name, val))"
   ]
  },
  {
   "cell_type": "code",
   "execution_count": 22,
   "metadata": {},
   "outputs": [],
   "source": [
    "all_nodes = node_subjects.index\n",
    "all_gen = generator.flow(all_nodes,use_ilocs=True)\n",
    "all_predictions = model.predict(all_gen)"
   ]
  },
  {
   "cell_type": "code",
   "execution_count": 23,
   "metadata": {},
   "outputs": [],
   "source": [
    "node_predictions = target_encoding.inverse_transform(all_predictions.squeeze())"
   ]
  },
  {
   "cell_type": "code",
   "execution_count": 24,
   "metadata": {},
   "outputs": [
    {
     "data": {
      "text/html": [
       "<div>\n",
       "<style scoped>\n",
       "    .dataframe tbody tr th:only-of-type {\n",
       "        vertical-align: middle;\n",
       "    }\n",
       "\n",
       "    .dataframe tbody tr th {\n",
       "        vertical-align: top;\n",
       "    }\n",
       "\n",
       "    .dataframe thead th {\n",
       "        text-align: right;\n",
       "    }\n",
       "</style>\n",
       "<table border=\"1\" class=\"dataframe\">\n",
       "  <thead>\n",
       "    <tr style=\"text-align: right;\">\n",
       "      <th></th>\n",
       "      <th>Predicted</th>\n",
       "      <th>True</th>\n",
       "    </tr>\n",
       "  </thead>\n",
       "  <tbody>\n",
       "    <tr>\n",
       "      <td>0</td>\n",
       "      <td>classroom</td>\n",
       "      <td>classroom</td>\n",
       "    </tr>\n",
       "    <tr>\n",
       "      <td>1</td>\n",
       "      <td>classroom</td>\n",
       "      <td>classroom</td>\n",
       "    </tr>\n",
       "    <tr>\n",
       "      <td>2</td>\n",
       "      <td>course</td>\n",
       "      <td>classroom</td>\n",
       "    </tr>\n",
       "    <tr>\n",
       "      <td>3</td>\n",
       "      <td>course</td>\n",
       "      <td>classroom</td>\n",
       "    </tr>\n",
       "    <tr>\n",
       "      <td>4</td>\n",
       "      <td>classroom</td>\n",
       "      <td>classroom</td>\n",
       "    </tr>\n",
       "    <tr>\n",
       "      <td>5</td>\n",
       "      <td>course</td>\n",
       "      <td>classroom</td>\n",
       "    </tr>\n",
       "    <tr>\n",
       "      <td>6</td>\n",
       "      <td>course</td>\n",
       "      <td>classroom</td>\n",
       "    </tr>\n",
       "    <tr>\n",
       "      <td>7</td>\n",
       "      <td>course</td>\n",
       "      <td>classroom</td>\n",
       "    </tr>\n",
       "    <tr>\n",
       "      <td>8</td>\n",
       "      <td>course</td>\n",
       "      <td>classroom</td>\n",
       "    </tr>\n",
       "    <tr>\n",
       "      <td>9</td>\n",
       "      <td>classroom</td>\n",
       "      <td>classroom</td>\n",
       "    </tr>\n",
       "    <tr>\n",
       "      <td>10</td>\n",
       "      <td>course</td>\n",
       "      <td>classroom</td>\n",
       "    </tr>\n",
       "    <tr>\n",
       "      <td>11</td>\n",
       "      <td>course</td>\n",
       "      <td>classroom</td>\n",
       "    </tr>\n",
       "    <tr>\n",
       "      <td>12</td>\n",
       "      <td>classroom</td>\n",
       "      <td>classroom</td>\n",
       "    </tr>\n",
       "    <tr>\n",
       "      <td>13</td>\n",
       "      <td>course</td>\n",
       "      <td>classroom</td>\n",
       "    </tr>\n",
       "    <tr>\n",
       "      <td>14</td>\n",
       "      <td>classroom</td>\n",
       "      <td>classroom</td>\n",
       "    </tr>\n",
       "    <tr>\n",
       "      <td>15</td>\n",
       "      <td>course</td>\n",
       "      <td>classroom</td>\n",
       "    </tr>\n",
       "    <tr>\n",
       "      <td>16</td>\n",
       "      <td>course</td>\n",
       "      <td>classroom</td>\n",
       "    </tr>\n",
       "    <tr>\n",
       "      <td>17</td>\n",
       "      <td>course</td>\n",
       "      <td>classroom</td>\n",
       "    </tr>\n",
       "    <tr>\n",
       "      <td>18</td>\n",
       "      <td>course</td>\n",
       "      <td>classroom</td>\n",
       "    </tr>\n",
       "    <tr>\n",
       "      <td>19</td>\n",
       "      <td>course</td>\n",
       "      <td>classroom</td>\n",
       "    </tr>\n",
       "  </tbody>\n",
       "</table>\n",
       "</div>"
      ],
      "text/plain": [
       "    Predicted       True\n",
       "0   classroom  classroom\n",
       "1   classroom  classroom\n",
       "2      course  classroom\n",
       "3      course  classroom\n",
       "4   classroom  classroom\n",
       "5      course  classroom\n",
       "6      course  classroom\n",
       "7      course  classroom\n",
       "8      course  classroom\n",
       "9   classroom  classroom\n",
       "10     course  classroom\n",
       "11     course  classroom\n",
       "12  classroom  classroom\n",
       "13     course  classroom\n",
       "14  classroom  classroom\n",
       "15     course  classroom\n",
       "16     course  classroom\n",
       "17     course  classroom\n",
       "18     course  classroom\n",
       "19     course  classroom"
      ]
     },
     "execution_count": 24,
     "metadata": {},
     "output_type": "execute_result"
    }
   ],
   "source": [
    "df = pd.DataFrame({\"Predicted\": node_predictions, \"True\": node_subjects})\n",
    "df.head(20)"
   ]
  },
  {
   "cell_type": "code",
   "execution_count": 25,
   "metadata": {},
   "outputs": [],
   "source": [
    "embedding_model = Model(inputs=x_inp, outputs=x_out)"
   ]
  },
  {
   "cell_type": "code",
   "execution_count": 26,
   "metadata": {},
   "outputs": [
    {
     "data": {
      "text/plain": [
       "(1, 2420, 16)"
      ]
     },
     "execution_count": 26,
     "metadata": {},
     "output_type": "execute_result"
    }
   ],
   "source": [
    "emb = embedding_model.predict(all_gen)\n",
    "emb.shape"
   ]
  },
  {
   "cell_type": "code",
   "execution_count": 27,
   "metadata": {},
   "outputs": [],
   "source": [
    "from sklearn.decomposition import PCA\n",
    "from sklearn.manifold import TSNE\n",
    "\n",
    "transform = TSNE  # or PCA"
   ]
  },
  {
   "cell_type": "code",
   "execution_count": 28,
   "metadata": {},
   "outputs": [
    {
     "data": {
      "text/plain": [
       "(2420, 16)"
      ]
     },
     "execution_count": 28,
     "metadata": {},
     "output_type": "execute_result"
    }
   ],
   "source": [
    "X = emb.squeeze(0)\n",
    "X.shape"
   ]
  },
  {
   "cell_type": "code",
   "execution_count": 29,
   "metadata": {},
   "outputs": [
    {
     "data": {
      "text/plain": [
       "(2420, 2)"
      ]
     },
     "execution_count": 29,
     "metadata": {},
     "output_type": "execute_result"
    }
   ],
   "source": [
    "trans = transform(n_components=2)\n",
    "X_reduced = trans.fit_transform(X)\n",
    "X_reduced.shape"
   ]
  },
  {
   "cell_type": "code",
   "execution_count": 30,
   "metadata": {},
   "outputs": [
    {
     "data": {
      "text/plain": [
       "<matplotlib.legend.Legend at 0x18146edde48>"
      ]
     },
     "execution_count": 30,
     "metadata": {},
     "output_type": "execute_result"
    },
    {
     "data": {
      "image/png": "[encoded data removed]",
      "text/plain": [
       "<Figure size 504x504 with 1 Axes>"
      ]
     },
     "metadata": {
      "needs_background": "light"
     },
     "output_type": "display_data"
    }
   ],
   "source": [
    "fig, ax = plt.subplots(figsize=(7, 7))\n",
    "scatter =ax.scatter(\n",
    "    X_reduced[:, 0],\n",
    "    X_reduced[:, 1],\n",
    "    c=node_subjects.astype(\"category\").cat.codes,\n",
    "    cmap=\"jet\",\n",
    "    alpha=0.7,\n",
    ")\n",
    "ax.set(\n",
    "    aspect=\"equal\",\n",
    "    xlabel=\"$X_1$\",\n",
    "    ylabel=\"$X_2$\",\n",
    "    title=f\"{transform.__name__} visualization of GCN embeddings for College dataset\",\n",
    ")\n",
    "classes = ['classroom', 'course','department','instructor','section', 'student','time_slot']\n",
    "plt.legend(handles=scatter.legend_elements()[0], labels=classes)"
   ]
  },
  {
   "cell_type": "code",
   "execution_count": null,
   "metadata": {},
   "outputs": [],
   "source": []
  }
 ],
 "metadata": {
  "kernelspec": {
   "display_name": "Python 3",
   "language": "python",
   "name": "python3"
  },
  "language_info": {
   "codemirror_mode": {
    "name": "ipython",
    "version": 3
   },
   "file_extension": ".py",
   "mimetype": "text/x-python",
   "name": "python",
   "nbconvert_exporter": "python",
   "pygments_lexer": "ipython3",
   "version": "3.7.4"
  }
 },
 "nbformat": 4,
 "nbformat_minor": 2
}
